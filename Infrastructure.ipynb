{
  "nbformat": 4,
  "nbformat_minor": 0,
  "metadata": {
    "colab": {
      "name": "Infrastructure.ipynb",
      "provenance": [],
      "collapsed_sections": [],
      "include_colab_link": true
    },
    "kernelspec": {
      "name": "python3",
      "display_name": "Python 3"
    },
    "language_info": {
      "name": "python"
    }
  },
  "cells": [
    {
      "cell_type": "markdown",
      "metadata": {
        "id": "view-in-github",
        "colab_type": "text"
      },
      "source": [
        "<a href=\"https://colab.research.google.com/github/Y-Yahyaoui/GNSS/blob/main/Infrastructure.ipynb\" target=\"_parent\"><img src=\"https://colab.research.google.com/assets/colab-badge.svg\" alt=\"Open In Colab\"/></a>"
      ]
    },
    {
      "cell_type": "code",
      "execution_count": null,
      "metadata": {
        "colab": {
          "base_uri": "https://localhost:8080/"
        },
        "id": "X7eQxWGoMw4t",
        "outputId": "9c8e85bc-59c8-4077-c2db-92b74c26be33"
      },
      "outputs": [
        {
          "output_type": "stream",
          "name": "stdout",
          "text": [
            "Requirement already satisfied: georinex in /usr/local/lib/python3.7/dist-packages (1.16.1)\n",
            "Requirement already satisfied: numpy in /usr/local/lib/python3.7/dist-packages (from georinex) (1.19.5)\n",
            "Requirement already satisfied: python-dateutil in /usr/local/lib/python3.7/dist-packages (from georinex) (2.8.2)\n",
            "Requirement already satisfied: hatanaka in /usr/local/lib/python3.7/dist-packages (from georinex) (2.8.0)\n",
            "Requirement already satisfied: unlzw3 in /usr/local/lib/python3.7/dist-packages (from georinex) (0.2.1)\n",
            "Requirement already satisfied: xarray>=0.11 in /usr/local/lib/python3.7/dist-packages (from georinex) (0.18.2)\n",
            "Requirement already satisfied: setuptools>=40.4 in /usr/local/lib/python3.7/dist-packages (from xarray>=0.11->georinex) (57.4.0)\n",
            "Requirement already satisfied: pandas>=1.0 in /usr/local/lib/python3.7/dist-packages (from xarray>=0.11->georinex) (1.3.5)\n",
            "Requirement already satisfied: pytz>=2017.3 in /usr/local/lib/python3.7/dist-packages (from pandas>=1.0->xarray>=0.11->georinex) (2018.9)\n",
            "Requirement already satisfied: six>=1.5 in /usr/local/lib/python3.7/dist-packages (from python-dateutil->georinex) (1.15.0)\n",
            "Requirement already satisfied: ncompress in /usr/local/lib/python3.7/dist-packages (from hatanaka->georinex) (1.0.0)\n",
            "Requirement already satisfied: importlib-resources in /usr/local/lib/python3.7/dist-packages (from hatanaka->georinex) (5.4.0)\n",
            "Requirement already satisfied: zipp>=3.1.0 in /usr/local/lib/python3.7/dist-packages (from importlib-resources->hatanaka->georinex) (3.7.0)\n"
          ]
        }
      ],
      "source": [
        "!pip install georinex"
      ]
    },
    {
      "cell_type": "code",
      "source": [
        "import georinex as gr\n",
        "from math import sin, atan, sqrt, cos, pi, isnan\n",
        "from datetime import datetime\n",
        "import numpy as np"
      ],
      "metadata": {
        "id": "fJMPNU1kNsoT"
      },
      "execution_count": null,
      "outputs": []
    },
    {
      "cell_type": "code",
      "source": [
        "def extract_params(file_name, sat_name, epoch):\n",
        "    nav = gr.load(file_name)\n",
        "    M0 = nav.sel(sv=sat_name)['M0'].values[epoch]\n",
        "    e = nav.sel(sv=sat_name)['Eccentricity'].values[epoch]\n",
        "    sqrtA = nav.sel(sv=sat_name)['sqrtA'].values[epoch]\n",
        "    Omega0 = nav.sel(sv=sat_name)['Omega0'].values[epoch]\n",
        "    Io = nav.sel(sv=sat_name)['Io'].values[epoch]\n",
        "    omega = nav.sel(sv=sat_name)['omega'].values[epoch]\n",
        "    DeltaN = nav.sel(sv=sat_name)['DeltaN'].values[epoch]\n",
        "    cuc = nav.sel(sv=sat_name)['Cuc'].values[epoch]\n",
        "    cus = nav.sel(sv=sat_name)['Cus'].values[epoch]\n",
        "    crc = nav.sel(sv=sat_name)['Crc'].values[epoch]\n",
        "    crs = nav.sel(sv=sat_name)['Crs'].values[epoch]\n",
        "    cis = nav.sel(sv=sat_name)['Cis'].values[epoch]\n",
        "    cic = nav.sel(sv=sat_name)['Cic'].values[epoch]\n",
        "    OmegaDot = nav.sel(sv=sat_name)['OmegaDot'].values[epoch]\n",
        "    IDOT = nav.sel(sv=sat_name)['IDOT'].values[epoch]\n",
        "    toe = nav.sel(sv=sat_name)['Toe'].values[epoch]\n",
        "    t_h = float(str(nav.sel(sv='G08').coords['time'][epoch].values).split('T')[1].split(':')[0])*3600\n",
        "    t_min = float(str(nav.sel(sv='G08').coords['time'][epoch].values).split('T')[1].split(':')[1])*60\n",
        "    t_s = float(str(nav.sel(sv='G08').coords['time'][epoch].values).split('T')[1].split(':')[2])\n",
        "    t = t_h + t_min + t_s\n",
        "    datetimestr = str(nav.sel(sv=sat_name).coords['time'].values[epoch]).split('T')[0]\n",
        "    datetime_object = datetime.strptime(datetimestr, '%Y-%m-%d')\n",
        "    T_sat = datetime_object.isoweekday()*24*3600 + t\n",
        "    return M0, e, sqrtA, Omega0, Io, omega, DeltaN, cuc, cus, crc, crs, cis, cic, OmegaDot, IDOT, toe, t, T_sat"
      ],
      "metadata": {
        "id": "V-6mRBMZNvBE"
      },
      "execution_count": null,
      "outputs": []
    },
    {
      "cell_type": "code",
      "source": [
        "def satellite_position(file_name, sat_name, epoch):\n",
        "    #Extraction des paramètes\n",
        "    #--------------------------------------------------\n",
        "    M0, e, sqrtA, Omega0, Io, omega, DeltaN, cuc, cus, crc, crs, cis, cic, OmegaDot, IDOT, toe, t, T_sat = extract_params(file_name, sat_name, epoch)\n",
        "    #--------------------------------------------------\n",
        "    #Calculs\n",
        "    t_k = t-toe\n",
        "    u = sqrt(3.986004418*10**14)\n",
        "    if t_k>302400 :\n",
        "        t_k = t_k - 604800\n",
        "    elif t_k<-302400 :\n",
        "        t_k = t_k + 604800\n",
        "    #Caclul de l'anomalie moyenne pour t_k\n",
        "    M_k = M0 + ((u/sqrtA**3)+DeltaN)*t_k\n",
        "    #Calcul de l'anomalie excentrique\n",
        "    E0 = M_k\n",
        "    E_k = E0 + e*sin(E0)\n",
        "    while abs(E0-E_k)<0.000001 :\n",
        "        E0 = E_k\n",
        "        E_k = M_k + e*sin(E0)\n",
        "    omega_E = 7.292115e-5\n",
        "    #Calcul de l'anomalie vraie\n",
        "    v_k = atan((sqrt(1-e**2)*sin(E_k))/(cos(E_k)-e))\n",
        "    #Calcul de l'arg de la latitude Uk\n",
        "    u_k = omega + v_k + cuc*cos(2*(omega+v_k)) + cus*sin(2*(omega+v_k))\n",
        "    #Calcul de la distance radiale rk\n",
        "    r_k = (sqrtA**2)*(1-e*cos(E_k)) + crc*cos(2*(omega+v_k)) + crs*sin(2*(omega+v_k))\n",
        "    #Calcul de l'inclinaison ik du plan orbital\n",
        "    i_k = Io + IDOT*t_k + cic*cos(2*(omega+v_k)) + cis*sin(2*(omega+v_k))\n",
        "    #Calcul de la longitude du noeud ascendant lambda_k\n",
        "    lambda_k = Omega0 + (OmegaDot - omega_E)*t_k - omega_E*toe\n",
        "    #Matrices de rotation\n",
        "    R3lambda = np.array([[cos(-lambda_k), -sin(-lambda_k), 0], [sin(-lambda_k), cos(-lambda_k), 0], [0,0,1]])\n",
        "    R3uk = np.array([[cos(-u_k), -sin(-u_k), 0], [sin(-u_k), cos(-u_k), 0], [0,0,1]])\n",
        "    R1ik = np.array([[1,0,0], [0, cos(-i_k), -sin(-i_k)], [0, sin(-i_k), cos(-i_k)]])\n",
        "    #Calcul des coordonnées dans le référentiel CTS\n",
        "    dotproduct = np.dot(np.dot(R3lambda, R1ik), R3uk)\n",
        "    vector = np.array([[r_k], [0], [0]])\n",
        "    coords = np.dot(dotproduct, vector)\n",
        "    return coords, T_sat"
      ],
      "metadata": {
        "id": "FbTdzODlNxW8"
      },
      "execution_count": null,
      "outputs": []
    },
    {
      "cell_type": "code",
      "source": [
        "def app_coords(X, Y, Z, D):\n",
        "    # X Y Z D sont respectivement des tableaux de 4 coordonnées et pseudo-distances des 4 premiers satellites, leur but est de calculer les coordonnées approximatives de la station \n",
        "    B=np.array([[X[0]-X[1],Y[0]-Y[1],Z[0]-Z[1]],[X[1]-X[2],Y[1]-Y[2],Z[1]-Z[2]],[X[2]-X[3],Y[2]-Y[3],Z[2]-Z[3]]])\n",
        "    C=np.array([[D[1]**2-D[0]**2-(X[1]**2+Y[1]**2+Z[1]**2)+(X[0]**2+Y[0]**2+Z[0]**2)],[D[2]**2-D[1]**2-(X[2]**2+Y[2]**2+Z[2]**2)+(X[1]**2+Y[1]**2+Z[1]**2)],[D[3]**2-D[2]**2-(X[3]**2+Y[3]**2+Z[3]**2)+(X[2]**2+Y[2]**2+Z[2]**2)]])*0.5\n",
        "    X0=np.dot(np.linalg.inv(B),C)\n",
        "    return X0\n",
        "\n",
        "\n",
        "def jacobienne(X, Y, Z, D, X0):\n",
        "    # X Y Z D sont respectivement des tableaux de toutes les coordonnées et pseudo-distances de tous les satellites, X0 sont les coordonnées approchés de la station\n",
        "    A=np.zeros((len(X), 3), dtype=float)\n",
        "    W=np.zeros((len(X), 1), dtype=float)\n",
        "    for i in range(len(D)):\n",
        "        E=sqrt((X0[0][0]-X[i])**2+(X0[1][0]-Y[i])**2+(X0[2][0]-Z[i])**2)\n",
        "        A[i][0]=(X0[0][0]-X[i])/E\n",
        "        A[i][1]=(X0[1][0]-Y[i])/E\n",
        "        A[i][2]=(X0[2][0]-Z[i])/E\n",
        "        W[i][0]=E-D[i]\n",
        "    return A, W\n",
        "\n",
        "def CMC(A, W, X0):\n",
        "    N=np.dot(A.transpose(),A)\n",
        "    U=np.dot(A.transpose(),W)\n",
        "    X=np.dot(np.linalg.inv(N),U)\n",
        "    Xcorr=X0-X\n",
        "    return Xcorr"
      ],
      "metadata": {
        "id": "pf2VszM3N0Pg"
      },
      "execution_count": null,
      "outputs": []
    },
    {
      "cell_type": "code",
      "source": [
        "nav = gr.load('/content/vald3640.21o')\n",
        "nav1 = gr.load('/content/vald3640.21n')\n",
        "\n",
        "\n",
        "satellites = nav1.coords['sv'].values\n",
        "satellitesO = nav.coords['sv'].values\n",
        "values_epoch1 = np.zeros((len(satellites),18))\n",
        "satellites_in_range_epoch1 = []\n",
        "satellites_in_range_epoch2 = []\n",
        "\n",
        "\n",
        "values_epoch2 = np.zeros((len(satellites),18))\n",
        "for i in range(len(satellites)):\n",
        "    values_epoch1[i] = np.array([extract_params('vald3640.21n', satellites[i], 0)])\n",
        "    values_epoch2[i] = np.array([extract_params('vald3640.21n', satellites[i], 1)])\n",
        "    if len(values_epoch1[i][~np.isnan(values_epoch1[i])]) > 2:\n",
        "        satellites_in_range_epoch1.append(satellites[i])\n",
        "    if len(values_epoch2[i][~np.isnan(values_epoch2[i])]) > 2:\n",
        "        satellites_in_range_epoch2.append(satellites[i])\n",
        "\n",
        "coords_epoch1 = {}\n",
        "coords_epoch2 = {}\n",
        "T_sat_epoch1 = {}\n",
        "T_sat_epoch2 = {}\n",
        "\n",
        "for i in range(len(satellites_in_range_epoch1)):\n",
        "    coords_epoch1[satellites_in_range_epoch1[i]], T_sat_epoch1[satellites_in_range_epoch1[i]] = satellite_position('vald3640.21n',satellites_in_range_epoch1[i],0) \n",
        "for i in range(len(satellites_in_range_epoch2)):\n",
        "    coords_epoch2[satellites_in_range_epoch2[i]], T_sat_epoch2[satellites_in_range_epoch2[i]] = satellite_position('vald3640.21n',satellites_in_range_epoch2[i],1) \n",
        "\n",
        "\n",
        "for i in range(len(coords_epoch1)):\n",
        "    for j in range(len(coords_epoch2)):\n",
        "        if not list(coords_epoch2)[j] in list(coords_epoch1):\n",
        "            coords_epoch1[list(coords_epoch2)[j]] = coords_epoch2[list(coords_epoch2)[j]]\n",
        "            T_sat_epoch1[list(T_sat_epoch2)[j]] = T_sat_epoch2[list(T_sat_epoch2)[j]]\n",
        "\n",
        "\n",
        "dict={}\n",
        "\n",
        "\n",
        "c = 3*10**8\n",
        "for i in range(119):\n",
        "    for j in range(len(satellitesO)):\n",
        "        if (not isnan(nav.sel(sv=satellitesO[j])[\"P2\"].values[i])) and (satellitesO[j] in satellites_in_range_epoch1 or satellitesO[j] in satellites_in_range_epoch2) and not satellitesO[j] in dict:\n",
        "            dict[satellitesO[j]] = nav.sel(sv=satellitesO[j])[\"P2\"].values[0]\n",
        "\n",
        "X=[]\n",
        "Y=[]\n",
        "Z=[]\n",
        "D=[]\n",
        "for i in range(len(dict)):\n",
        "    X.append(coords_epoch1[list(dict)[i]][0])\n",
        "    Y.append(coords_epoch1[list(dict)[i]][1])\n",
        "    Z.append(coords_epoch1[list(dict)[i]][2])\n",
        "    D.append(dict[list(dict)[i]])\n",
        "\n",
        "\n",
        "X = np.array(X)\n",
        "Y = np.array(Y)\n",
        "Z = np.array(Z)\n",
        "D = np.array(D)\n",
        "\n",
        "for i in range(len(D)):\n",
        "    if isnan(D[i]):\n",
        "        D = np.delete(D, i)\n",
        "        X = np.delete(X, i)\n",
        "        Y = np.delete(Y, i)\n",
        "        Z = np.delete(Z, i)\n",
        "\n",
        "\n",
        "X0 = app_coords(X, Y, Z, D)\n",
        "A, W = jacobienne(X, Y, Z, D, X0)\n",
        "X_corr = CMC(A, W, X0)\n",
        "print(coords_epoch1)\n",
        "print(X_corr)"
      ],
      "metadata": {
        "colab": {
          "base_uri": "https://localhost:8080/"
        },
        "id": "1P5kDjs4N42-",
        "outputId": "baf22d35-08d3-4689-9994-33fd6d54f65a"
      },
      "execution_count": null,
      "outputs": [
        {
          "output_type": "stream",
          "name": "stdout",
          "text": [
            "{'G03': array([[  3961014.3459775],\n",
            "       [-17575451.5240497],\n",
            "       [ 19653949.1937669]]), 'G29': array([[  3583844.73436282],\n",
            "       [-25144165.32021204],\n",
            "       [  7632414.22853904]]), 'G31': array([[-23978500.39067741],\n",
            "       [ -4410192.41532748],\n",
            "       [ 11208576.55082116]]), 'G01': array([[13855279.72547076],\n",
            "       [21515103.09788518],\n",
            "       [ 6127730.20188543]]), 'G04': array([[  7423330.05233627],\n",
            "       [ 14731354.42935557],\n",
            "       [-20799209.42435418]]), 'G07': array([[ 3632125.29855373],\n",
            "       [24597114.051065  ],\n",
            "       [ 8980341.98994046]]), 'G08': array([[-15437974.46430942],\n",
            "       [ -4167976.33937957],\n",
            "       [-21244531.35918032]]), 'G09': array([[  3540146.82881312],\n",
            "       [-21703496.52688536],\n",
            "       [ 14946717.89784869]]), 'G10': array([[-12667946.4103483 ],\n",
            "       [ 12226456.48010979],\n",
            "       [-20108960.31028885]]), 'G13': array([[-17745570.93312223],\n",
            "       [  4740397.39830386],\n",
            "       [ 19087572.09014963]]), 'G14': array([[ 11671476.64537003],\n",
            "       [-13177525.46448817],\n",
            "       [-19903195.45672036]]), 'G16': array([[-26777283.63394568],\n",
            "       [   266384.4279418 ],\n",
            "       [  1672791.01082377]]), 'G17': array([[ 12805142.85178303],\n",
            "       [-23093439.85212008],\n",
            "       [ -3101907.93434971]]), 'G18': array([[ -4032316.68556492],\n",
            "       [-24506187.68022226],\n",
            "       [  9268716.59500161]]), 'G21': array([[-16298577.05452384],\n",
            "       [-14401069.36870394],\n",
            "       [-15499684.75170518]]), 'G26': array([[-21993739.75703242],\n",
            "       [  6371271.07832488],\n",
            "       [ 13785414.9969952 ]]), 'G27': array([[-19514666.78218964],\n",
            "       [  7120238.16139434],\n",
            "       [-16583395.42296964]]), 'G28': array([[ 18484400.66675084],\n",
            "       [-10589078.83054457],\n",
            "       [-16250567.42540712]]), 'G30': array([[-3895361.41526409],\n",
            "       [20583939.02198324],\n",
            "       [16252771.48810833]])}\n",
            "[[ 341634.12703465]\n",
            " [ 291503.25162663]\n",
            " [-639286.48413752]]\n"
          ]
        }
      ]
    }
  ]
}